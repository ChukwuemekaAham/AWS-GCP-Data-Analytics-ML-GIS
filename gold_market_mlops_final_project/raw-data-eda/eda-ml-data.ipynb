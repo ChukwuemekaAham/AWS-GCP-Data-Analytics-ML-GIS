{
 "cells": [
  {
   "cell_type": "markdown",
   "metadata": {},
   "source": [
    "# My Goal is Predicting Price Volatility: \n",
    "\n",
    "As the Model aims to predict price swings (like high-volatility periods); \n",
    "\n",
    "- Volume as a Feature: While high volume can sometimes signal strong buying or selling pressure, it's not always a direct predictor of price changes.\n",
    "\n",
    "- Price: it's more likely that features like \"Open,\" \"High,\" and \"Low\" will play a more significant role."
   ]
  },
  {
   "cell_type": "code",
   "execution_count": 1,
   "metadata": {},
   "outputs": [],
   "source": [
    "import pandas as pd\n",
    "import seaborn as sns\n",
    "import matplotlib.pyplot as plt"
   ]
  },
  {
   "cell_type": "code",
   "execution_count": 3,
   "metadata": {},
   "outputs": [
    {
     "data": {
      "text/html": [
       "<div>\n",
       "<style scoped>\n",
       "    .dataframe tbody tr th:only-of-type {\n",
       "        vertical-align: middle;\n",
       "    }\n",
       "\n",
       "    .dataframe tbody tr th {\n",
       "        vertical-align: top;\n",
       "    }\n",
       "\n",
       "    .dataframe thead th {\n",
       "        text-align: right;\n",
       "    }\n",
       "</style>\n",
       "<table border=\"1\" class=\"dataframe\">\n",
       "  <thead>\n",
       "    <tr style=\"text-align: right;\">\n",
       "      <th></th>\n",
       "      <th>Date</th>\n",
       "      <th>Open</th>\n",
       "      <th>High</th>\n",
       "      <th>Low</th>\n",
       "      <th>Close</th>\n",
       "      <th>Adj_Close</th>\n",
       "      <th>Volume</th>\n",
       "      <th>Percentage_Change_Close</th>\n",
       "    </tr>\n",
       "  </thead>\n",
       "  <tbody>\n",
       "    <tr>\n",
       "      <th>0</th>\n",
       "      <td>2000-08-30</td>\n",
       "      <td>273.899994</td>\n",
       "      <td>273.899994</td>\n",
       "      <td>273.899994</td>\n",
       "      <td>273.899994</td>\n",
       "      <td>273.899994</td>\n",
       "      <td>0.0</td>\n",
       "      <td>0.000000</td>\n",
       "    </tr>\n",
       "    <tr>\n",
       "      <th>1</th>\n",
       "      <td>2000-08-31</td>\n",
       "      <td>274.799988</td>\n",
       "      <td>278.299988</td>\n",
       "      <td>274.799988</td>\n",
       "      <td>278.299988</td>\n",
       "      <td>278.299988</td>\n",
       "      <td>0.0</td>\n",
       "      <td>0.016064</td>\n",
       "    </tr>\n",
       "    <tr>\n",
       "      <th>2</th>\n",
       "      <td>2000-09-01</td>\n",
       "      <td>277.000000</td>\n",
       "      <td>277.000000</td>\n",
       "      <td>277.000000</td>\n",
       "      <td>277.000000</td>\n",
       "      <td>277.000000</td>\n",
       "      <td>0.0</td>\n",
       "      <td>-0.004671</td>\n",
       "    </tr>\n",
       "    <tr>\n",
       "      <th>3</th>\n",
       "      <td>2000-09-05</td>\n",
       "      <td>275.799988</td>\n",
       "      <td>275.799988</td>\n",
       "      <td>275.799988</td>\n",
       "      <td>275.799988</td>\n",
       "      <td>275.799988</td>\n",
       "      <td>2.0</td>\n",
       "      <td>-0.004332</td>\n",
       "    </tr>\n",
       "    <tr>\n",
       "      <th>4</th>\n",
       "      <td>2000-09-06</td>\n",
       "      <td>274.200012</td>\n",
       "      <td>274.200012</td>\n",
       "      <td>274.200012</td>\n",
       "      <td>274.200012</td>\n",
       "      <td>274.200012</td>\n",
       "      <td>0.0</td>\n",
       "      <td>-0.005801</td>\n",
       "    </tr>\n",
       "  </tbody>\n",
       "</table>\n",
       "</div>"
      ],
      "text/plain": [
       "         Date        Open        High         Low       Close   Adj_Close  \\\n",
       "0  2000-08-30  273.899994  273.899994  273.899994  273.899994  273.899994   \n",
       "1  2000-08-31  274.799988  278.299988  274.799988  278.299988  278.299988   \n",
       "2  2000-09-01  277.000000  277.000000  277.000000  277.000000  277.000000   \n",
       "3  2000-09-05  275.799988  275.799988  275.799988  275.799988  275.799988   \n",
       "4  2000-09-06  274.200012  274.200012  274.200012  274.200012  274.200012   \n",
       "\n",
       "   Volume  Percentage_Change_Close  \n",
       "0     0.0                 0.000000  \n",
       "1     0.0                 0.016064  \n",
       "2     0.0                -0.004671  \n",
       "3     2.0                -0.004332  \n",
       "4     0.0                -0.005801  "
      ]
     },
     "execution_count": 3,
     "metadata": {},
     "output_type": "execute_result"
    }
   ],
   "source": [
    "# The CSV file is in the same folder as this notebook; providing the CSV file name is sufficient.\n",
    "data_path = \"../cleaned_data/gold-cleaned-2024-09-02.csv\"\n",
    "df =  pd.read_csv(data_path)\n",
    "\n",
    "df.head()"
   ]
  },
  {
   "cell_type": "code",
   "execution_count": 4,
   "metadata": {},
   "outputs": [
    {
     "data": {
      "text/html": [
       "<div>\n",
       "<style scoped>\n",
       "    .dataframe tbody tr th:only-of-type {\n",
       "        vertical-align: middle;\n",
       "    }\n",
       "\n",
       "    .dataframe tbody tr th {\n",
       "        vertical-align: top;\n",
       "    }\n",
       "\n",
       "    .dataframe thead th {\n",
       "        text-align: right;\n",
       "    }\n",
       "</style>\n",
       "<table border=\"1\" class=\"dataframe\">\n",
       "  <thead>\n",
       "    <tr style=\"text-align: right;\">\n",
       "      <th></th>\n",
       "      <th>Open</th>\n",
       "      <th>High</th>\n",
       "      <th>Low</th>\n",
       "      <th>Close</th>\n",
       "    </tr>\n",
       "  </thead>\n",
       "  <tbody>\n",
       "    <tr>\n",
       "      <th>0</th>\n",
       "      <td>273.899994</td>\n",
       "      <td>273.899994</td>\n",
       "      <td>273.899994</td>\n",
       "      <td>273.899994</td>\n",
       "    </tr>\n",
       "    <tr>\n",
       "      <th>1</th>\n",
       "      <td>274.799988</td>\n",
       "      <td>278.299988</td>\n",
       "      <td>274.799988</td>\n",
       "      <td>278.299988</td>\n",
       "    </tr>\n",
       "    <tr>\n",
       "      <th>2</th>\n",
       "      <td>277.000000</td>\n",
       "      <td>277.000000</td>\n",
       "      <td>277.000000</td>\n",
       "      <td>277.000000</td>\n",
       "    </tr>\n",
       "    <tr>\n",
       "      <th>3</th>\n",
       "      <td>275.799988</td>\n",
       "      <td>275.799988</td>\n",
       "      <td>275.799988</td>\n",
       "      <td>275.799988</td>\n",
       "    </tr>\n",
       "    <tr>\n",
       "      <th>4</th>\n",
       "      <td>274.200012</td>\n",
       "      <td>274.200012</td>\n",
       "      <td>274.200012</td>\n",
       "      <td>274.200012</td>\n",
       "    </tr>\n",
       "    <tr>\n",
       "      <th>...</th>\n",
       "      <td>...</td>\n",
       "      <td>...</td>\n",
       "      <td>...</td>\n",
       "      <td>...</td>\n",
       "    </tr>\n",
       "    <tr>\n",
       "      <th>5988</th>\n",
       "      <td>2430.000000</td>\n",
       "      <td>2436.000000</td>\n",
       "      <td>2422.899902</td>\n",
       "      <td>2422.899902</td>\n",
       "    </tr>\n",
       "    <tr>\n",
       "      <th>5989</th>\n",
       "      <td>2427.399902</td>\n",
       "      <td>2462.399902</td>\n",
       "      <td>2427.399902</td>\n",
       "      <td>2462.399902</td>\n",
       "    </tr>\n",
       "    <tr>\n",
       "      <th>5990</th>\n",
       "      <td>2472.899902</td>\n",
       "      <td>2473.100098</td>\n",
       "      <td>2454.800049</td>\n",
       "      <td>2454.800049</td>\n",
       "    </tr>\n",
       "    <tr>\n",
       "      <th>5991</th>\n",
       "      <td>2466.000000</td>\n",
       "      <td>2466.000000</td>\n",
       "      <td>2451.800049</td>\n",
       "      <td>2451.800049</td>\n",
       "    </tr>\n",
       "    <tr>\n",
       "      <th>5992</th>\n",
       "      <td>2418.800049</td>\n",
       "      <td>2419.199951</td>\n",
       "      <td>2395.500000</td>\n",
       "      <td>2395.500000</td>\n",
       "    </tr>\n",
       "  </tbody>\n",
       "</table>\n",
       "<p>5993 rows × 4 columns</p>\n",
       "</div>"
      ],
      "text/plain": [
       "             Open         High          Low        Close\n",
       "0      273.899994   273.899994   273.899994   273.899994\n",
       "1      274.799988   278.299988   274.799988   278.299988\n",
       "2      277.000000   277.000000   277.000000   277.000000\n",
       "3      275.799988   275.799988   275.799988   275.799988\n",
       "4      274.200012   274.200012   274.200012   274.200012\n",
       "...           ...          ...          ...          ...\n",
       "5988  2430.000000  2436.000000  2422.899902  2422.899902\n",
       "5989  2427.399902  2462.399902  2427.399902  2462.399902\n",
       "5990  2472.899902  2473.100098  2454.800049  2454.800049\n",
       "5991  2466.000000  2466.000000  2451.800049  2451.800049\n",
       "5992  2418.800049  2419.199951  2395.500000  2395.500000\n",
       "\n",
       "[5993 rows x 4 columns]"
      ]
     },
     "execution_count": 4,
     "metadata": {},
     "output_type": "execute_result"
    }
   ],
   "source": [
    "df = df.drop(columns=[\"Adj_Close\",\"Volume\",\"Percentage_Change_Close\",\"Date\"])\n",
    "df"
   ]
  },
  {
   "cell_type": "code",
   "execution_count": 5,
   "metadata": {},
   "outputs": [
    {
     "data": {
      "text/plain": [
       "Open     float64\n",
       "High     float64\n",
       "Low      float64\n",
       "Close    float64\n",
       "dtype: object"
      ]
     },
     "execution_count": 5,
     "metadata": {},
     "output_type": "execute_result"
    }
   ],
   "source": [
    "df.dtypes\n"
   ]
  },
  {
   "cell_type": "code",
   "execution_count": 6,
   "metadata": {},
   "outputs": [
    {
     "data": {
      "text/html": [
       "<div>\n",
       "<style scoped>\n",
       "    .dataframe tbody tr th:only-of-type {\n",
       "        vertical-align: middle;\n",
       "    }\n",
       "\n",
       "    .dataframe tbody tr th {\n",
       "        vertical-align: top;\n",
       "    }\n",
       "\n",
       "    .dataframe thead th {\n",
       "        text-align: right;\n",
       "    }\n",
       "</style>\n",
       "<table border=\"1\" class=\"dataframe\">\n",
       "  <thead>\n",
       "    <tr style=\"text-align: right;\">\n",
       "      <th></th>\n",
       "      <th>Open</th>\n",
       "      <th>High</th>\n",
       "      <th>Low</th>\n",
       "      <th>Close</th>\n",
       "    </tr>\n",
       "  </thead>\n",
       "  <tbody>\n",
       "    <tr>\n",
       "      <th>count</th>\n",
       "      <td>5993.000000</td>\n",
       "      <td>5993.000000</td>\n",
       "      <td>5993.000000</td>\n",
       "      <td>5993.000000</td>\n",
       "    </tr>\n",
       "    <tr>\n",
       "      <th>mean</th>\n",
       "      <td>1134.055932</td>\n",
       "      <td>1139.698231</td>\n",
       "      <td>1128.151177</td>\n",
       "      <td>1133.988453</td>\n",
       "    </tr>\n",
       "    <tr>\n",
       "      <th>std</th>\n",
       "      <td>551.119394</td>\n",
       "      <td>554.180601</td>\n",
       "      <td>547.993625</td>\n",
       "      <td>551.119329</td>\n",
       "    </tr>\n",
       "    <tr>\n",
       "      <th>min</th>\n",
       "      <td>255.000000</td>\n",
       "      <td>256.100006</td>\n",
       "      <td>255.000000</td>\n",
       "      <td>255.100006</td>\n",
       "    </tr>\n",
       "    <tr>\n",
       "      <th>25%</th>\n",
       "      <td>625.500000</td>\n",
       "      <td>627.200012</td>\n",
       "      <td>622.599976</td>\n",
       "      <td>625.400024</td>\n",
       "    </tr>\n",
       "    <tr>\n",
       "      <th>50%</th>\n",
       "      <td>1227.199951</td>\n",
       "      <td>1233.500000</td>\n",
       "      <td>1222.500000</td>\n",
       "      <td>1227.199951</td>\n",
       "    </tr>\n",
       "    <tr>\n",
       "      <th>75%</th>\n",
       "      <td>1582.099976</td>\n",
       "      <td>1592.800049</td>\n",
       "      <td>1571.400024</td>\n",
       "      <td>1582.900024</td>\n",
       "    </tr>\n",
       "    <tr>\n",
       "      <th>max</th>\n",
       "      <td>2472.899902</td>\n",
       "      <td>2473.100098</td>\n",
       "      <td>2454.800049</td>\n",
       "      <td>2462.399902</td>\n",
       "    </tr>\n",
       "  </tbody>\n",
       "</table>\n",
       "</div>"
      ],
      "text/plain": [
       "              Open         High          Low        Close\n",
       "count  5993.000000  5993.000000  5993.000000  5993.000000\n",
       "mean   1134.055932  1139.698231  1128.151177  1133.988453\n",
       "std     551.119394   554.180601   547.993625   551.119329\n",
       "min     255.000000   256.100006   255.000000   255.100006\n",
       "25%     625.500000   627.200012   622.599976   625.400024\n",
       "50%    1227.199951  1233.500000  1222.500000  1227.199951\n",
       "75%    1582.099976  1592.800049  1571.400024  1582.900024\n",
       "max    2472.899902  2473.100098  2454.800049  2462.399902"
      ]
     },
     "execution_count": 6,
     "metadata": {},
     "output_type": "execute_result"
    }
   ],
   "source": [
    "df.describe()"
   ]
  },
  {
   "cell_type": "markdown",
   "metadata": {},
   "source": [
    "## EDA Insights:\n",
    "\n",
    "- Price Range: There is a significant price range, with a minimum of 255 and a maximum of 2462, indicating a volatile asset.\n",
    "- Date Range: The data spans from 2000-08-30 to 2024-07-19, a considerable time period.\n",
    "- Central Tendency: The mean and median prices are relatively close for \"Open,\" \"High,\" \"Low,\" and \"Close,\" suggesting a fairly symmetrical distribution.\n",
    "- Standard Deviation: The standard deviations are around 550, indicating a good amount of variability in the prices."
   ]
  },
  {
   "cell_type": "code",
   "execution_count": 7,
   "metadata": {},
   "outputs": [
    {
     "name": "stdout",
     "output_type": "stream",
     "text": [
      "Correlation between Close and Open: 0.9997871428750558\n"
     ]
    }
   ],
   "source": [
    "# Correlation Calculation\n",
    "correlation = df['Close'].corr(df['Open'])\n",
    "print(f\"Correlation between Close and Open: {correlation}\")"
   ]
  },
  {
   "cell_type": "markdown",
   "metadata": {},
   "source": [
    "- Strong Relationship: The correlation being very close to 1 implies that the closing price is highly dependent on the opening price.\n",
    "\n",
    "- Positive Direction: The positive sign means that, generally, as the opening price goes up, the closing price also tends to go up."
   ]
  },
  {
   "cell_type": "code",
   "execution_count": 8,
   "metadata": {},
   "outputs": [
    {
     "data": {
      "image/png": "[encoded data removed]",
      "text/plain": [
       "<Figure size 640x480 with 1 Axes>"
      ]
     },
     "metadata": {},
     "output_type": "display_data"
    }
   ],
   "source": [
    "# Scatter Plot with Volume on the Y-axis and a Trendline\n",
    "sns.regplot(x='Close', y='Open', data=df,  # Use sns.regplot() for trendline\n",
    "            scatter_kws={'alpha': 0.3},  # Adjust point transparency\n",
    "            line_kws={'color': 'red', 'lw': 2})  # Customize trendline color and width\n",
    "plt.title('Close vs. Open (Price Volatility Visualization)')\n",
    "plt.xlabel('Closing Price')\n",
    "plt.ylabel('Opening Price')\n",
    "\n",
    "plt.show()"
   ]
  },
  {
   "cell_type": "code",
   "execution_count": 9,
   "metadata": {},
   "outputs": [
    {
     "name": "stdout",
     "output_type": "stream",
     "text": [
      "Correlation between Close and Low: 0.9999062311611945\n"
     ]
    }
   ],
   "source": [
    "# Correlation Calculation\n",
    "correlation = df['Close'].corr(df['Low'])\n",
    "print(f\"Correlation between Close and Low: {correlation}\")"
   ]
  },
  {
   "cell_type": "markdown",
   "metadata": {},
   "source": [
    "- Strong Relationship: The correlation being very close to 1 implies that the closing price is highly dependent on the opening price.\n",
    "\n",
    "- Positive Direction: The positive sign means that, generally, as the opening price goes up, the closing price also tends to go up."
   ]
  },
  {
   "cell_type": "code",
   "execution_count": 10,
   "metadata": {},
   "outputs": [],
   "source": [
    "from datetime import datetime\n",
    "\n",
    "# Get today's date\n",
    "today = datetime.today().strftime(\"%Y-%m-%d\")\n",
    "\n",
    "output_path = f'../cleaned_data/gold-ml-{today}.csv'  \n",
    "\n",
    "# Save the DataFrame to CSV\n",
    "df.to_csv(output_path, index=False)  # Set index=False to avoid saving the row index"
   ]
  }
 ],
 "metadata": {
  "kernelspec": {
   "display_name": "Python 3",
   "language": "python",
   "name": "python3"
  },
  "language_info": {
   "codemirror_mode": {
    "name": "ipython",
    "version": 3
   },
   "file_extension": ".py",
   "mimetype": "text/x-python",
   "name": "python",
   "nbconvert_exporter": "python",
   "pygments_lexer": "ipython3",
   "version": "3.10.0"
  }
 },
 "nbformat": 4,
 "nbformat_minor": 2
}
